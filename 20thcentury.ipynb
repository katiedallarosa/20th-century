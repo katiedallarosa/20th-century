{
 "cells": [
  {
   "cell_type": "code",
   "execution_count": 18,
   "id": "22c7be1a-5971-4205-b48f-e8df1ac2fa97",
   "metadata": {
    "tags": []
   },
   "outputs": [],
   "source": [
    "import pandas as pd"
   ]
  },
  {
   "cell_type": "code",
   "execution_count": 21,
   "id": "cb0bae99-fa5d-4e76-ae9d-e8ad493ba3d5",
   "metadata": {
    "tags": []
   },
   "outputs": [],
   "source": [
    "data = pd.DataFrame({\"Name\": ['Feyre', 'Rhys', 'Nesta','Cassian'],\n",
    "                     \"Race\": [\"human\", \"faerie\", \"human\", \"illyrian\"],\n",
    "                     \"Age\": [21,734,23,801]})"
   ]
  },
  {
   "cell_type": "code",
   "execution_count": 24,
   "id": "10918bb2-8945-43c3-9c71-69f97b23707a",
   "metadata": {
    "tags": []
   },
   "outputs": [
    {
     "data": {
      "text/plain": [
       "0     10.5\n",
       "1    367.0\n",
       "2     11.5\n",
       "3    400.5\n",
       "Name: Age, dtype: float64"
      ]
     },
     "execution_count": 24,
     "metadata": {},
     "output_type": "execute_result"
    }
   ],
   "source": [
    "divide_2 = lambda x: x/2\n",
    "divide_2(data['Age'])"
   ]
  },
  {
   "cell_type": "code",
   "execution_count": 27,
   "id": "ba0d46ca-71e4-4f67-8965-178373d4d55c",
   "metadata": {
    "tags": []
   },
   "outputs": [],
   "source": [
    "data['age_label_2'] = data['Age'].apply(\n",
    "lambda x:  'fae old' if x > 300 else ('middle-aged' if x >=100 else 'young'))"
   ]
  },
  {
   "cell_type": "code",
   "execution_count": 29,
   "id": "1efd09ce-b164-42c4-8588-b3be19a18324",
   "metadata": {
    "tags": []
   },
   "outputs": [
    {
     "data": {
      "text/html": [
       "<div>\n",
       "<style scoped>\n",
       "    .dataframe tbody tr th:only-of-type {\n",
       "        vertical-align: middle;\n",
       "    }\n",
       "\n",
       "    .dataframe tbody tr th {\n",
       "        vertical-align: top;\n",
       "    }\n",
       "\n",
       "    .dataframe thead th {\n",
       "        text-align: right;\n",
       "    }\n",
       "</style>\n",
       "<table border=\"1\" class=\"dataframe\">\n",
       "  <thead>\n",
       "    <tr style=\"text-align: right;\">\n",
       "      <th></th>\n",
       "      <th>Name</th>\n",
       "      <th>Race</th>\n",
       "      <th>Age</th>\n",
       "      <th>age_label_2</th>\n",
       "    </tr>\n",
       "  </thead>\n",
       "  <tbody>\n",
       "    <tr>\n",
       "      <th>0</th>\n",
       "      <td>Feyre</td>\n",
       "      <td>human</td>\n",
       "      <td>21</td>\n",
       "      <td>young</td>\n",
       "    </tr>\n",
       "    <tr>\n",
       "      <th>1</th>\n",
       "      <td>Rhys</td>\n",
       "      <td>faerie</td>\n",
       "      <td>734</td>\n",
       "      <td>fae old</td>\n",
       "    </tr>\n",
       "    <tr>\n",
       "      <th>2</th>\n",
       "      <td>Nesta</td>\n",
       "      <td>human</td>\n",
       "      <td>23</td>\n",
       "      <td>young</td>\n",
       "    </tr>\n",
       "    <tr>\n",
       "      <th>3</th>\n",
       "      <td>Cassian</td>\n",
       "      <td>illyrian</td>\n",
       "      <td>801</td>\n",
       "      <td>fae old</td>\n",
       "    </tr>\n",
       "  </tbody>\n",
       "</table>\n",
       "</div>"
      ],
      "text/plain": [
       "      Name      Race  Age age_label_2\n",
       "0    Feyre     human   21       young\n",
       "1     Rhys    faerie  734     fae old\n",
       "2    Nesta     human   23       young\n",
       "3  Cassian  illyrian  801     fae old"
      ]
     },
     "execution_count": 29,
     "metadata": {},
     "output_type": "execute_result"
    }
   ],
   "source": [
    "data"
   ]
  },
  {
   "cell_type": "code",
   "execution_count": null,
   "id": "2f11364d-7a6a-44a0-8d41-d88a12d1406d",
   "metadata": {},
   "outputs": [],
   "source": []
  }
 ],
 "metadata": {
  "kernelspec": {
   "display_name": "Python [conda env:venv_20thcentury]",
   "language": "python",
   "name": "conda-env-venv_20thcentury-py"
  },
  "language_info": {
   "codemirror_mode": {
    "name": "ipython",
    "version": 3
   },
   "file_extension": ".py",
   "mimetype": "text/x-python",
   "name": "python",
   "nbconvert_exporter": "python",
   "pygments_lexer": "ipython3",
   "version": "3.12.4"
  }
 },
 "nbformat": 4,
 "nbformat_minor": 5
}
